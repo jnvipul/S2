{
 "cells": [
  {
   "cell_type": "code",
   "execution_count": 9,
   "metadata": {},
   "outputs": [
    {
     "name": "stdout",
     "output_type": "stream",
     "text": [
      "Import successful\n",
      "Data imported successfully | Rows : 24260\n"
     ]
    }
   ],
   "source": [
    "import s2sphere as s2\n",
    "import pandas as pd\n",
    "import numpy as np\n",
    "# import mataplotlib as mpl\n",
    "print \"Imports successful\"\n",
    "\n",
    "data = pd.read_csv(\"~/Downloads/pincodes_with_lat_long.csv\")\n",
    "print(\"Data imported successfully | Rows : %s\" %data.shape[0])\n",
    "\n",
    "\n",
    "\n"
   ]
  },
  {
   "cell_type": "code",
   "execution_count": null,
   "metadata": {
    "collapsed": true
   },
   "outputs": [],
   "source": []
  }
 ],
 "metadata": {
  "kernelspec": {
   "display_name": "Python 2",
   "language": "python",
   "name": "python2"
  },
  "language_info": {
   "codemirror_mode": {
    "name": "ipython",
    "version": 2
   },
   "file_extension": ".py",
   "mimetype": "text/x-python",
   "name": "python",
   "nbconvert_exporter": "python",
   "pygments_lexer": "ipython2",
   "version": "2.7.13"
  }
 },
 "nbformat": 4,
 "nbformat_minor": 2
}
