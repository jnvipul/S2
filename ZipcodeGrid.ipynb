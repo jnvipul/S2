{
 "cells": [
  {
   "cell_type": "code",
   "execution_count": 39,
   "metadata": {},
   "outputs": [
    {
     "name": "stdout",
     "output_type": "stream",
     "text": [
      "   PostalCode       Lat        Long\n",
      "0       98265  1.238588  103.832674\n",
      "1       98308  1.239151  103.837338\n",
      "2       98309  1.239947  103.838327\n",
      "3       98116  1.240697   103.83625\n",
      "4       98209  1.240743   103.83865\n"
     ]
    }
   ],
   "source": [
    "import s2sphere as s2\n",
    "import pandas as pd\n",
    "import numpy as np\n",
    "# import mataplotlib as mpl\n",
    "\n",
    "# print \"Imports successful\"\n",
    "\n",
    "df = pd.read_csv(\"~/Downloads/pincodes_with_lat_long.csv\")\n",
    "\n",
    "# echo data properties\n",
    "# print(\"Data imported successfully | Rows : %s | Columns : %s\" %(data.shape[0], data.shape[1]))\n",
    "\n",
    "df = formatData(df)\n",
    "\n",
    "# echo data\n",
    "print df.head(n=5)\n",
    "\n",
    "def formatData(df):\n",
    "    # Change column names\n",
    "    df.columns = ['LatLong', 'PostalCode']\n",
    "    \n",
    "    # Split LatLong into different columns\n",
    "    df['Lat'], df['Long'] = df['LatLong'].str.split(',', 1).str\n",
    "    df = df[df.columns[1:]]\n",
    "    return df\n",
    "\n",
    "    \n",
    "\n"
   ]
  },
  {
   "cell_type": "code",
   "execution_count": null,
   "metadata": {
    "collapsed": true
   },
   "outputs": [],
   "source": []
  }
 ],
 "metadata": {
  "kernelspec": {
   "display_name": "Python 2",
   "language": "python",
   "name": "python2"
  },
  "language_info": {
   "codemirror_mode": {
    "name": "ipython",
    "version": 2
   },
   "file_extension": ".py",
   "mimetype": "text/x-python",
   "name": "python",
   "nbconvert_exporter": "python",
   "pygments_lexer": "ipython2",
   "version": "2.7.13"
  }
 },
 "nbformat": 4,
 "nbformat_minor": 2
}
