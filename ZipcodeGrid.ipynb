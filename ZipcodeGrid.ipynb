{
 "cells": [
  {
   "cell_type": "code",
   "execution_count": 20,
   "metadata": {},
   "outputs": [
    {
     "name": "stdout",
     "output_type": "stream",
     "text": [
      "   PostalCode       Lat        Long Cell Level        Cell Token\n",
      "0       98265  1.238588  103.832674         30  31da1ea4b72a9b35\n",
      "1       98308  1.239151  103.837338         30  31da1ebbb9327b5d\n",
      "2       98309  1.239947  103.838327         30  31da1ebbd2a2fc21\n",
      "3       98116  1.240697   103.83625         30  31da1eba58460edf\n",
      "4       98209  1.240743   103.83865         30  31da1eba242aba47\n",
      "5       98207  1.240771  103.838695         30  31da1eba26856957\n",
      "6       98204   1.24078  103.838659         30  31da1eba269d4723\n",
      "7       98205   1.24078  103.838686         30  31da1eba269b2473\n",
      "8       98202  1.240825  103.838695         30  31da1eba26a33b7d\n",
      "9       98206  1.240834  103.838695         30  31da1eba26a4bb61\n"
     ]
    }
   ],
   "source": [
    "import s2sphere as s2\n",
    "import pandas as pd\n",
    "import numpy as np\n",
    "# import mataplotlib as mpl\n",
    "\n",
    "# print \"Imports successful\"\n",
    "\n",
    "COLUMN_CELL_LEVEL = \"Cell Level\"\n",
    "COLUMN_CELL_TOKEN = \"Cell Token\"\n",
    "COLUMN_LAT = \"Lat\"\n",
    "COLUMN_LONG = \"Long\"\n",
    "COLUMN_POSTAL_CODE = \"PostalCode\"\n",
    "\n",
    "# ==========================================UTILITY============================================\n",
    "def plotLatLong(row):\n",
    "    latlng = s2.LatLng.from_degrees(float(row['Lat']), float(row['Long']))\n",
    "    cell = s2.CellId.from_lat_lng(latlng)\n",
    "    row[COLUMN_CELL_LEVEL] = cell.level()\n",
    "    row[COLUMN_CELL_TOKEN] = cell.to_token()\n",
    "    return row\n",
    "\n",
    "def formatData(df):\n",
    "    # Change column names\n",
    "    df.columns = ['LatLong', COLUMN_POSTAL_CODE]\n",
    "    \n",
    "    # Split LatLong into different columns\n",
    "    df[COLUMN_LAT], df[COLUMN_LONG] = df['LatLong'].str.split(',', 1).str\n",
    "    df = df[df.columns[1:]]\n",
    "    df[COLUMN_CELL_LEVEL] = None\n",
    "    df[COLUMN_CELL_TOKEN] = None\n",
    "    df = df.head(n=10)\n",
    "#     echo data\n",
    "#     print df.head(n=6)\n",
    "    return df\n",
    "# ==========================================UTILITY============================================\n",
    "\n",
    "\n",
    "df = pd.read_csv(\"~/Downloads/pincodes_with_lat_long.csv\")\n",
    "df = formatData(df)\n",
    "\n",
    "for index, row in df.iterrows():\n",
    "    row = plotLatLong(row)\n",
    "    df.loc[index] = row\n",
    "    \n",
    "print(df)\n",
    "    \n",
    "\n"
   ]
  },
  {
   "cell_type": "code",
   "execution_count": null,
   "metadata": {
    "collapsed": true
   },
   "outputs": [],
   "source": []
  },
  {
   "cell_type": "code",
   "execution_count": null,
   "metadata": {
    "collapsed": true
   },
   "outputs": [],
   "source": []
  }
 ],
 "metadata": {
  "kernelspec": {
   "display_name": "Python 2",
   "language": "python",
   "name": "python2"
  },
  "language_info": {
   "codemirror_mode": {
    "name": "ipython",
    "version": 2
   },
   "file_extension": ".py",
   "mimetype": "text/x-python",
   "name": "python",
   "nbconvert_exporter": "python",
   "pygments_lexer": "ipython2",
   "version": "2.7.13"
  }
 },
 "nbformat": 4,
 "nbformat_minor": 2
}
