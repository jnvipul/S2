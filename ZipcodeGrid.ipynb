{
 "cells": [
  {
   "cell_type": "code",
   "execution_count": 10,
   "metadata": {},
   "outputs": [
    {
     "name": "stdout",
     "output_type": "stream",
     "text": [
      "Total points : 24260\n",
      "Total cells in the region : 494\n"
     ]
    }
   ],
   "source": [
    "import s2sphere as s2\n",
    "import pandas as pd\n",
    "import numpy as np\n",
    "import matplotlib.pyplot as plt\n",
    "from shapely.geometry import Polygon\n",
    "from shapely import geometry\n",
    "import cartopy.crs as ccrs\n",
    "import cartopy.io.img_tiles as cimgt\n",
    "\n",
    "COLUMN_CELL_LEVEL = \"Cell Level\"\n",
    "COLUMN_CELL_TOKEN = \"Cell Token\"\n",
    "COLUMN_LAT = \"Lat\"\n",
    "COLUMN_LONG = \"Long\"\n",
    "COLUMN_POSTAL_CODE = \"PostalCode\"\n",
    "\n",
    "# ==========================================UTILITY============================================\n",
    "def plotLatLong(row):\n",
    "    latlng = s2.LatLng.from_degrees(float(row['Lat']), float(row['Long']))\n",
    "    cell = s2.CellId.from_lat_lng(latlng)\n",
    "    row[COLUMN_CELL_LEVEL] = cell.level()\n",
    "    row[COLUMN_CELL_TOKEN] = cell.to_token()\n",
    "    return row\n",
    "\n",
    "def formatData(df):\n",
    "    # Change column names\n",
    "    df.columns = ['LatLong', COLUMN_POSTAL_CODE]\n",
    "    \n",
    "    # Split LatLong into different columns\n",
    "    df[COLUMN_LAT], df[COLUMN_LONG] = df['LatLong'].str.split(',', 1).str\n",
    "    df = df[df.columns[1:]]\n",
    "    df[COLUMN_CELL_LEVEL] = None\n",
    "    df[COLUMN_CELL_TOKEN] = None\n",
    "#     df = df.head(n=10)\n",
    "#     echo data\n",
    "#     print df.head(n=6)\n",
    "    return df\n",
    "# ==========================================UTILITY============================================\n",
    "\n",
    "\n",
    "df = pd.read_csv(\"~/Downloads/pincodes_with_lat_long.csv\")\n",
    "df = formatData(df)\n",
    "\n",
    "print(\"Total points : %s\" %df.shape[0])\n",
    "\n",
    "\n",
    "# Comparing with rect-region with 2 points\n",
    "# row1 = df.iloc[0]\n",
    "# row2 = df.iloc[1]\n",
    "# LL1 = s2.LatLng.from_degrees(float(row1['Lat']), float(row1['Long']))\n",
    "# LL2 = s2.LatLng.from_degrees(float(row2['Lat']), float(row2['Long']))\n",
    "# region_rect = s2.LatLngRect.from_point_pair(LL1, LL2)\n",
    "# print(\"Rect area : %s\" % region_rect.area())\n",
    "\n",
    "# Create a cap with all lat-longs\n",
    "cap = s2.Cap.empty()\n",
    "for index, row in df.iterrows():\n",
    "    point = s2.LatLng.from_degrees(float(row['Lat']), float(row['Long'])).to_point()\n",
    "    \n",
    "    cap.add_point(point)\n",
    "#     print(\"Cap rect area : %s\" % cap.get_rect_bound().area()) \n",
    "    \n",
    "# Get covering of the cap\n",
    "coverer = s2.RegionCoverer()\n",
    "coverer.min_level = 10\n",
    "coverer.max_level = 15\n",
    "coverer.max_cells= 500\n",
    "covering = coverer.get_covering(cap.get_rect_bound())\n",
    "\n",
    "print(\"Total cells in the region : %s\" %len(covering))\n",
    "\n",
    "\n",
    "# geoms = []\n",
    "# for cellid in covering:\n",
    "#     new_cell = s2.Cell(cellid)\n",
    "#     vertices = []\n",
    "#     for i in xrange(0, 4):\n",
    "#         vertex = new_cell.get_vertex(i)\n",
    "#         latlng = s2.LatLng.from_point(vertex)\n",
    "#         vertices.append((latlng.lat().degrees,\n",
    "#                          latlng.lng().degrees))\n",
    "#     geo = Polygon(vertices)\n",
    "#     geoms.append(geo)\n",
    "# print \"Total Geometries: {}\".format(len(geoms))\n",
    "    \n",
    "\n",
    "    \n",
    "\n"
   ]
  },
  {
   "cell_type": "code",
   "execution_count": null,
   "metadata": {
    "collapsed": true
   },
   "outputs": [],
   "source": []
  },
  {
   "cell_type": "code",
   "execution_count": null,
   "metadata": {
    "collapsed": true
   },
   "outputs": [],
   "source": []
  }
 ],
 "metadata": {
  "kernelspec": {
   "display_name": "Python 2",
   "language": "python",
   "name": "python2"
  },
  "language_info": {
   "codemirror_mode": {
    "name": "ipython",
    "version": 2
   },
   "file_extension": ".py",
   "mimetype": "text/x-python",
   "name": "python",
   "nbconvert_exporter": "python",
   "pygments_lexer": "ipython2",
   "version": "2.7.13"
  }
 },
 "nbformat": 4,
 "nbformat_minor": 2
}
